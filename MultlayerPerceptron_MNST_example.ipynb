{
  "nbformat": 4,
  "nbformat_minor": 0,
  "metadata": {
    "colab": {
      "provenance": []
    },
    "kernelspec": {
      "name": "python3",
      "display_name": "Python 3"
    },
    "language_info": {
      "name": "python"
    }
  },
  "cells": [
    {
      "cell_type": "markdown",
      "source": [
        "# Training Neural Networking on MNST numbers"
      ],
      "metadata": {
        "id": "4DMdRRKSMD0N"
      }
    },
    {
      "cell_type": "markdown",
      "source": [
        "## Setup:"
      ],
      "metadata": {
        "id": "1pM2n_sxMMKB"
      }
    },
    {
      "cell_type": "code",
      "execution_count": 90,
      "metadata": {
        "id": "g0SfwDkd2vm2"
      },
      "outputs": [],
      "source": [
        "import numpy as np\n",
        "import pandas as pd\n",
        "from tqdm import tqdm\n",
        "import tensorflow as tf\n",
        "from copy import deepcopy\n",
        "import matplotlib.pyplot as plt\n",
        "from sklearn.metrics import accuracy_score"
      ]
    },
    {
      "cell_type": "markdown",
      "source": [
        "## Load and Visualization"
      ],
      "metadata": {
        "id": "MNX6emCgMRsW"
      }
    },
    {
      "cell_type": "code",
      "source": [
        "# Load MNIST data directly from TensorFlow\n",
        "mnist = tf.keras.datasets.mnist\n",
        "# Split the dataset into training and testing data\n",
        "(train_images, train_labels), (test_images, test_labels) = mnist.load_data()"
      ],
      "metadata": {
        "id": "O3eBntw2P6fd"
      },
      "execution_count": 2,
      "outputs": []
    },
    {
      "cell_type": "code",
      "source": [
        "# Print out the dimensions\n",
        "print(\"Dimension of Training Images: \", train_images.shape)\n",
        "print(\"Dimension of Training Labels: \", train_labels.shape)\n",
        "print(\"Dimension of Test Images: \", test_images.shape)\n",
        "print(\"Dimension of Test Labels: \", test_labels.shape)"
      ],
      "metadata": {
        "colab": {
          "base_uri": "https://localhost:8080/"
        },
        "id": "RfgkGyAQQFTY",
        "outputId": "dd42eee1-b5ff-4be3-8795-0b69c24611bb"
      },
      "execution_count": 3,
      "outputs": [
        {
          "output_type": "stream",
          "name": "stdout",
          "text": [
            "Dimension of Training Images:  (60000, 28, 28)\n",
            "Dimension of Training Labels:  (60000,)\n",
            "Dimension of Test Images:  (10000, 28, 28)\n",
            "Dimension of Test Labels:  (10000,)\n"
          ]
        }
      ]
    },
    {
      "cell_type": "code",
      "source": [
        "# Visualize the first 10 images from the training set\n",
        "def plot_images(images, labels, num=10, num_per_row = 10):\n",
        "    num_rows = (num) // num_per_row\n",
        "    plt.figure(figsize=(num_per_row, num_rows * 2))\n",
        "    for i in range(num):\n",
        "        plt.subplot(num_rows, num_per_row, i + 1)\n",
        "        plt.imshow(images[i], cmap=\"gray\")\n",
        "        plt.axis(\"off\")\n",
        "        plt.title(labels[i])\n",
        "    plt.show()\n",
        "\n",
        "# Plot the first 10 images from the training set\n",
        "plot_images(train_images, train_labels, 10)"
      ],
      "metadata": {
        "colab": {
          "base_uri": "https://localhost:8080/",
          "height": 125
        },
        "id": "0-3kJfUp22ax",
        "outputId": "a39234f8-f8cd-48d5-e607-ff7385cf4b30"
      },
      "execution_count": 99,
      "outputs": [
        {
          "output_type": "display_data",
          "data": {
            "text/plain": [
              "<Figure size 1000x200 with 10 Axes>"
            ],
            "image/png": "[encoded data removed]"
          },
          "metadata": {}
        }
      ]
    },
    {
      "cell_type": "markdown",
      "source": [
        "## Preprocessing"
      ],
      "metadata": {
        "id": "R_ZAKEzDRynF"
      }
    },
    {
      "cell_type": "code",
      "source": [
        "# Flatten the images for both train and test sets\n",
        "train_images_flattened = train_images.reshape(-1, 28 * 28)\n",
        "test_images_flattened = test_images.reshape(-1, 28 * 28)\n",
        "\n",
        "# Normalize pixel values to be between 0 and 1\n",
        "train_images_flattened = train_images_flattened / 255.0\n",
        "test_images_flattened = test_images_flattened / 255.0\n",
        "\n",
        "# One-hot encode the labels\n",
        "train_labels_one_hot = np.eye(10)[train_labels]\n",
        "test_labels_one_hot = np.eye(10)[test_labels]"
      ],
      "metadata": {
        "id": "HkqUkYK023wL"
      },
      "execution_count": 5,
      "outputs": []
    },
    {
      "cell_type": "code",
      "source": [
        "# Print out the dimensions\n",
        "print(\"Dimension of Training Images: \", train_images_flattened.shape)\n",
        "print(\"Dimension of Training Labels: \", train_labels_one_hot.shape)\n",
        "print(\"Dimension of Test Images: \", test_images_flattened.shape)\n",
        "print(\"Dimension of Test Labels: \", test_labels_one_hot.shape)"
      ],
      "metadata": {
        "colab": {
          "base_uri": "https://localhost:8080/"
        },
        "id": "A-Rfl9o-R5Bo",
        "outputId": "4aac79da-24f0-4700-ad07-201834cf7eee"
      },
      "execution_count": 9,
      "outputs": [
        {
          "output_type": "stream",
          "name": "stdout",
          "text": [
            "Dimension of Training Images:  (60000, 784)\n",
            "Dimension of Training Labels:  (60000, 10)\n",
            "Dimension of Test Images:  (10000, 784)\n",
            "Dimension of Test Labels:  (10000, 10)\n"
          ]
        }
      ]
    },
    {
      "cell_type": "markdown",
      "source": [
        "## Designing The Model"
      ],
      "metadata": {
        "id": "Zrk29TO6TR-l"
      }
    },
    {
      "cell_type": "code",
      "source": [
        "class MultilayerPerceptron:\n",
        "    def __init__(self, input_size, hidden_layers, output_size, activation=\"relu\", reg_type=None, reg_lambda=0.0, leaky_slope=0.01):\n",
        "        \"\"\"\n",
        "        Initialize the MLP with given parameters.\n",
        "        input_size: Number of input features.\n",
        "        hidden_layers: List with the number of units in each hidden layer.\n",
        "        output_size: Number of output units.\n",
        "        activation: Activation function (\"relu\", \"tanh\" or \"leaky_relu\").\n",
        "        reg_type: Regularization type (\"l1\", \"l2\", or None).\n",
        "        reg_lambda: Regularization strength.\n",
        "        \"\"\"\n",
        "        self.layers = [input_size] + hidden_layers + [output_size]\n",
        "        self.weights = [np.random.randn(self.layers[i], self.layers[i + 1]) * 0.1 for i in range(len(self.layers) - 1)]\n",
        "        self.biases = [np.zeros((1, self.layers[i + 1])) for i in range(len(self.layers) - 1)]\n",
        "        self.activation = activation.lower()\n",
        "        self.reg_type = reg_type.lower() if reg_type else None\n",
        "        self.reg_lambda = reg_lambda\n",
        "        self.leaky_slope = leaky_slope\n",
        "        # save the weights that works the best on val during training\n",
        "        self.best_weights = deepcopy(self.weights)\n",
        "        self.best_biases = deepcopy(self.biases)\n",
        "        self.best_val_acc = 0\n",
        "    def _activation(self, z):\n",
        "        \"\"\"\n",
        "        Apply the chosen activation function.\n",
        "        Pre-activation values.\n",
        "        Activation values.\n",
        "        \"\"\"\n",
        "        if self.activation == \"relu\":\n",
        "            return np.maximum(0, z)                           # ReLU\n",
        "        elif self.activation == \"tanh\":\n",
        "            return np.tanh(z)                                 # Tanh\n",
        "        elif self.activation == \"leaky_relu\":\n",
        "            return np.where(z > 0, z, self.leaky_slope * z)   # Leaky ReLU\n",
        "        else:\n",
        "            raise ValueError(f\"Unsupported activation function: {self.activation}\")\n",
        "\n",
        "    def _activation_derivative(self, z):\n",
        "        \"\"\"\n",
        "        Compute the derivative of the chosen activation function.\n",
        "        z: Pre-activation values.\n",
        "        return: Derivative of activation values.\n",
        "        \"\"\"\n",
        "        if self.activation == \"relu\":\n",
        "            return (z > 0).astype(float)                      # ReLU derivative\n",
        "        elif self.activation == \"tanh\":\n",
        "            return 1 - np.tanh(z) ** 2                        # Tanh derivative\n",
        "        elif self.activation == \"leaky_relu\":\n",
        "            return np.where(z > 0, 1, self.leaky_slope)       # Leaky ReLU derivative\n",
        "        else:\n",
        "            raise ValueError(f\"Unsupported activation function: {self.activation}\")\n",
        "\n",
        "    def _softmax(self, z):\n",
        "        \"\"\"\n",
        "        Apply softmax to compute output probabilities.\n",
        "        z: Pre-activation values of the output layer.\n",
        "        return: Softmax probabilities.\n",
        "        \"\"\"\n",
        "        exp_z = np.exp(z - np.max(z, axis=1, keepdims=True))  # Stability trick\n",
        "        return exp_z / np.sum(exp_z, axis=1, keepdims=True)\n",
        "\n",
        "    def forward(self, X):\n",
        "        \"\"\"\n",
        "        Perform forward propagation.\n",
        "        X: Input data.\n",
        "        return: Activations and pre-activations for each layer.\n",
        "        \"\"\"\n",
        "        activations = [X]\n",
        "        pre_activations = []\n",
        "\n",
        "        for i in range(len(self.weights)):\n",
        "            z = np.dot(activations[-1], self.weights[i]) + self.biases[i]\n",
        "            pre_activations.append(z)\n",
        "            if i == len(self.weights) - 1:                    # Output layer\n",
        "                a = self._softmax(z)\n",
        "            else:                                             # Hidden layers\n",
        "                a = self._activation(z)\n",
        "            activations.append(a)\n",
        "\n",
        "        return activations, pre_activations\n",
        "\n",
        "\n",
        "    def forward_best(self, X):\n",
        "        \"\"\"\n",
        "        Perform forward propagation.\n",
        "        X: Input data.\n",
        "        return: Activations and pre-activations for each layer.\n",
        "        Use the best weights and biases\n",
        "        \"\"\"\n",
        "        activations = [X]\n",
        "        pre_activations = []\n",
        "\n",
        "        for i in range(len(self.best_weights)):\n",
        "            z = np.dot(activations[-1], self.best_weights[i]) + self.best_biases[i]\n",
        "            pre_activations.append(z)\n",
        "            if i == len(self.best_weights) - 1:             # Output layer\n",
        "                a = self._softmax(z)\n",
        "            else:                                           # Hidden layers\n",
        "                a = self._activation(z)\n",
        "            activations.append(a)\n",
        "\n",
        "        return activations, pre_activations\n",
        "\n",
        "    def backward(self, X, y, activations, pre_activations):\n",
        "        \"\"\"\n",
        "        Perform backward propagation to compute gradients for weights and biases.\n",
        "        X: Input minibatch data.\n",
        "        y: Ground truth labels (one-hot encoded).\n",
        "        activations: List of activations from forward pass.\n",
        "        re_activations: List of pre-activations (z values) from forward pass.\n",
        "        return: Gradients for weights and biases.\n",
        "        \"\"\"\n",
        "        m = X.shape[0]                                      # Minibatch size\n",
        "        grads_w = [None] * len(self.weights)\n",
        "        grads_b = [None] * len(self.biases)\n",
        "\n",
        "        # Output layer delta\n",
        "        delta = activations[-1] - y\n",
        "        grads_w[-1] = np.dot(activations[-2].T, delta) / m\n",
        "        # print(delta.shape)\n",
        "        grads_b[-1] = np.sum(delta, axis=0, keepdims=True) / m\n",
        "\n",
        "        # Backpropagation for hidden layers\n",
        "        for l in range(len(self.weights) - 2, -1, -1):\n",
        "            delta = np.dot(delta, self.weights[l + 1].T) * self._activation_derivative(pre_activations[l])\n",
        "            grads_w[l] = np.dot(activations[l].T, delta) / m\n",
        "            grads_b[l] = np.sum(delta, axis=0, keepdims=True) / m\n",
        "            if self.reg_type == \"l2\":\n",
        "                grads_w[l] += self.reg_lambda * self.weights[l]\n",
        "            elif self.reg_type == \"l1\":\n",
        "                grads_w[l] += self.reg_lambda * np.sign(self.weights[l])\n",
        "\n",
        "        return grads_w, grads_b\n",
        "\n",
        "    def update_params(self, grads_w, grads_b, learning_rate):\n",
        "        for i in range(len(self.weights)):\n",
        "            self.weights[i] -= learning_rate * grads_w[i]\n",
        "            self.biases[i] -= learning_rate * grads_b[i]\n",
        "\n",
        "    def fit(self, X, y, X_val, y_val, epochs, learning_rate, batch_size, regularization=None):\n",
        "\n",
        "        for epoch in tqdm(range(epochs)):\n",
        "            # Shuffle the data\n",
        "            indices = np.arange(X.shape[0])\n",
        "            np.random.shuffle(indices)\n",
        "            X = X[indices]\n",
        "            y = y[indices]\n",
        "\n",
        "            # Minibatch training\n",
        "            for start in range(0, X.shape[0], batch_size):\n",
        "                end = min(start + batch_size, X.shape[0])\n",
        "                X_batch = X[start:end]\n",
        "                y_batch = y[start:end]\n",
        "\n",
        "                # Forward pass\n",
        "                activations, pre_activations = self.forward(X_batch)\n",
        "\n",
        "                # Backward pass\n",
        "                grads_w, grads_b = self.backward(X_batch, y_batch, activations, pre_activations)\n",
        "\n",
        "                # Update weights and biases\n",
        "                self.update_params(grads_w, grads_b, learning_rate)\n",
        "\n",
        "            # Evaluate accuracy after each epoch\n",
        "            train_acc = self.evaluate_acc(X, y)\n",
        "            val_acc = self.evaluate_acc(X_val, y_val)\n",
        "\n",
        "            if val_acc > self.best_val_acc:\n",
        "                self.best_weights = deepcopy(self.weights)\n",
        "                self.best_biases = deepcopy(self.biases)\n",
        "                self.best_val_acc = val_acc\n",
        "            print(f\"Epoch {epoch}: Train Accuracy: {train_acc:.4f}, Val Accuracy: {val_acc:.4f}\")\n",
        "\n",
        "    def predict(self, X):\n",
        "        activations, _ = self.forward(X)\n",
        "        return np.argmax(activations[-1], axis=1)\n",
        "\n",
        "    def predict_best(self, X):\n",
        "        activations, _ = self.forward_best(X)\n",
        "        return np.argmax(activations[-1], axis=1)\n",
        "\n",
        "    def evaluate_acc(self, X, y):\n",
        "        predictions = self.predict(X)\n",
        "        y_true = np.argmax(y, axis=1)\n",
        "        return accuracy_score(y_true, predictions)\n",
        "\n",
        "    def evaluate_acc_best(self, X, y):\n",
        "        predictions = self.predict_best(X)\n",
        "        y_true = np.argmax(y, axis=1)\n",
        "        return accuracy_score(y_true, predictions)"
      ],
      "metadata": {
        "id": "bxRThVrHAiiE"
      },
      "execution_count": 91,
      "outputs": []
    },
    {
      "cell_type": "code",
      "source": [
        "input = 784\n",
        "hidden = [10]\n",
        "output = 10\n",
        "\n",
        "model = MultilayerPerceptron(input, hidden, output, \"ReLu\")\n",
        "model.fit(train_images_flattened, train_labels_one_hot, test_images_flattened, test_labels_one_hot, 10, 0.05, 50)"
      ],
      "metadata": {
        "colab": {
          "base_uri": "https://localhost:8080/"
        },
        "id": "Jqu1fq5wTyP7",
        "outputId": "6581d925-3b92-4a8b-e92b-d6933d000d6b"
      },
      "execution_count": 97,
      "outputs": [
        {
          "output_type": "stream",
          "name": "stderr",
          "text": [
            " 10%|█         | 1/10 [00:01<00:09,  1.08s/it]"
          ]
        },
        {
          "output_type": "stream",
          "name": "stdout",
          "text": [
            "Epoch 0: Train Accuracy: 0.8907, Val Accuracy: 0.8960\n"
          ]
        },
        {
          "output_type": "stream",
          "name": "stderr",
          "text": [
            "\r 20%|██        | 2/10 [00:01<00:07,  1.08it/s]"
          ]
        },
        {
          "output_type": "stream",
          "name": "stdout",
          "text": [
            "Epoch 1: Train Accuracy: 0.9119, Val Accuracy: 0.9148\n"
          ]
        },
        {
          "output_type": "stream",
          "name": "stderr",
          "text": [
            "\r 30%|███       | 3/10 [00:02<00:06,  1.15it/s]"
          ]
        },
        {
          "output_type": "stream",
          "name": "stdout",
          "text": [
            "Epoch 2: Train Accuracy: 0.9186, Val Accuracy: 0.9228\n"
          ]
        },
        {
          "output_type": "stream",
          "name": "stderr",
          "text": [
            "\r 40%|████      | 4/10 [00:03<00:05,  1.19it/s]"
          ]
        },
        {
          "output_type": "stream",
          "name": "stdout",
          "text": [
            "Epoch 3: Train Accuracy: 0.9238, Val Accuracy: 0.9252\n"
          ]
        },
        {
          "output_type": "stream",
          "name": "stderr",
          "text": [
            "\r 50%|█████     | 5/10 [00:04<00:04,  1.22it/s]"
          ]
        },
        {
          "output_type": "stream",
          "name": "stdout",
          "text": [
            "Epoch 4: Train Accuracy: 0.9258, Val Accuracy: 0.9253\n"
          ]
        },
        {
          "output_type": "stream",
          "name": "stderr",
          "text": [
            "\r 60%|██████    | 6/10 [00:05<00:03,  1.24it/s]"
          ]
        },
        {
          "output_type": "stream",
          "name": "stdout",
          "text": [
            "Epoch 5: Train Accuracy: 0.9301, Val Accuracy: 0.9295\n"
          ]
        },
        {
          "output_type": "stream",
          "name": "stderr",
          "text": [
            "\r 70%|███████   | 7/10 [00:05<00:02,  1.24it/s]"
          ]
        },
        {
          "output_type": "stream",
          "name": "stdout",
          "text": [
            "Epoch 6: Train Accuracy: 0.9319, Val Accuracy: 0.9296\n"
          ]
        },
        {
          "output_type": "stream",
          "name": "stderr",
          "text": [
            "\r 80%|████████  | 8/10 [00:06<00:01,  1.24it/s]"
          ]
        },
        {
          "output_type": "stream",
          "name": "stdout",
          "text": [
            "Epoch 7: Train Accuracy: 0.9354, Val Accuracy: 0.9338\n"
          ]
        },
        {
          "output_type": "stream",
          "name": "stderr",
          "text": [
            "\r 90%|█████████ | 9/10 [00:07<00:00,  1.26it/s]"
          ]
        },
        {
          "output_type": "stream",
          "name": "stdout",
          "text": [
            "Epoch 8: Train Accuracy: 0.9379, Val Accuracy: 0.9353\n"
          ]
        },
        {
          "output_type": "stream",
          "name": "stderr",
          "text": [
            "100%|██████████| 10/10 [00:08<00:00,  1.21it/s]"
          ]
        },
        {
          "output_type": "stream",
          "name": "stdout",
          "text": [
            "Epoch 9: Train Accuracy: 0.9378, Val Accuracy: 0.9352\n"
          ]
        },
        {
          "output_type": "stream",
          "name": "stderr",
          "text": [
            "\n"
          ]
        }
      ]
    },
    {
      "cell_type": "code",
      "source": [
        "inference = model.predict(train_images_flattened[0:10])\n",
        "print(inference)\n",
        "\n",
        "# Plot the first 10 images from the training set and add the inference label instead\n",
        "plot_images(train_images, inference, 10)"
      ],
      "metadata": {
        "colab": {
          "base_uri": "https://localhost:8080/",
          "height": 143
        },
        "id": "x6NxP5bQ-f1h",
        "outputId": "093e80ed-4383-4ea8-b4b3-d2a359181901"
      },
      "execution_count": 104,
      "outputs": [
        {
          "output_type": "stream",
          "name": "stdout",
          "text": [
            "[5 0 4 1 9 2 1 3 1 4]\n"
          ]
        },
        {
          "output_type": "display_data",
          "data": {
            "text/plain": [
              "<Figure size 1000x200 with 10 Axes>"
            ],
            "image/png": "[encoded data removed]"
          },
          "metadata": {}
        }
      ]
    }
  ]
}